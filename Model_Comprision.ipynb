{
 "cells": [
  {
   "cell_type": "code",
   "execution_count": 1,
   "id": "c7cae482-c362-4099-bba9-c666c8979e57",
   "metadata": {},
   "outputs": [],
   "source": [
    "import pandas as pd"
   ]
  },
  {
   "cell_type": "code",
   "execution_count": 2,
   "id": "a1d980e7-d2f1-4581-99b7-fa4156a3c73d",
   "metadata": {},
   "outputs": [],
   "source": [
    "data = pd.read_csv(\"drug200.csv\")"
   ]
  },
  {
   "cell_type": "code",
   "execution_count": 3,
   "id": "244a1dfd-7964-4489-ad43-9cfba049f334",
   "metadata": {},
   "outputs": [],
   "source": [
    "from sklearn.model_selection import train_test_split"
   ]
  },
  {
   "cell_type": "code",
   "execution_count": 4,
   "id": "364a7dee-6364-4498-96fd-b61676589537",
   "metadata": {},
   "outputs": [],
   "source": [
    "from sklearn.preprocessing import LabelEncoder"
   ]
  },
  {
   "cell_type": "code",
   "execution_count": 5,
   "id": "1953ef78-6883-4e61-b8b9-b23e1f14a9c9",
   "metadata": {},
   "outputs": [],
   "source": [
    "le=LabelEncoder()\n",
    "data['Sex']=le.fit_transform(data.Sex)\n",
    "data['BP']=le.fit_transform(data.BP)\n",
    "data['Cholesterol']=le.fit_transform(data.Cholesterol)\n",
    "data['Drug']=le.fit_transform(data.Drug)"
   ]
  },
  {
   "cell_type": "code",
   "execution_count": 6,
   "id": "4d845059-ea35-4882-a8a4-d5d81befcedf",
   "metadata": {},
   "outputs": [],
   "source": [
    "from sklearn.preprocessing import StandardScaler"
   ]
  },
  {
   "cell_type": "code",
   "execution_count": 7,
   "id": "edad4b4b-da24-4f08-b1d8-796fcafc3ae6",
   "metadata": {},
   "outputs": [
    {
     "data": {
      "text/plain": [
       "array([[-1.29159102, -1.040833  , -1.11016894, -0.97043679,  1.28652212],\n",
       "       [ 0.16269866,  0.96076892,  0.10979693, -0.97043679, -0.4151454 ],\n",
       "       [ 0.16269866,  0.96076892,  0.10979693, -0.97043679, -0.82855818],\n",
       "       [-0.988614  , -1.040833  ,  1.32976279, -0.97043679, -1.14996267],\n",
       "       [ 1.0110343 , -1.040833  ,  0.10979693, -0.97043679,  0.27179427],\n",
       "       [-1.35218642, -1.040833  ,  1.32976279, -0.97043679, -1.03769314],\n",
       "       [ 0.28388946, -1.040833  ,  1.32976279, -0.97043679,  0.02643885],\n",
       "       [-0.20087376,  0.96076892,  0.10979693, -0.97043679, -0.70046821],\n",
       "       [ 0.9504389 ,  0.96076892,  1.32976279, -0.97043679, -0.12676951],\n",
       "       [-0.07968296,  0.96076892,  0.10979693,  1.03046381,  0.45567206],\n",
       "       [ 0.16269866, -1.040833  ,  0.10979693, -0.97043679, -0.59916196],\n",
       "       [-0.62504158, -1.040833  , -1.11016894,  1.03046381,  0.43221897],\n",
       "       [-0.07968296,  0.96076892,  0.10979693, -0.97043679, -0.09832049],\n",
       "       [ 1.79877454, -1.040833  ,  0.10979693, -0.97043679,  0.674105  ],\n",
       "       [ 0.34448487, -1.040833  ,  1.32976279, -0.97043679, -0.46926791],\n",
       "       [-1.71575884, -1.040833  , -1.11016894,  1.03046381, -0.0788919 ],\n",
       "       [ 1.49579753,  0.96076892,  0.10979693,  1.03046381, -0.64245998],\n",
       "       [-0.07968296,  0.96076892, -1.11016894, -0.97043679, -0.29316156],\n",
       "       [-1.29159102,  0.96076892,  0.10979693, -0.97043679, -1.21935052],\n",
       "       [-0.74623239, -1.040833  , -1.11016894,  1.03046381,  1.37242427],\n",
       "       [ 0.76865269,  0.96076892,  0.10979693,  1.03046381,  0.42236589],\n",
       "       [ 1.13222511,  0.96076892,  1.32976279, -0.97043679,  1.36451406],\n",
       "       [ 0.16269866,  0.96076892,  0.10979693,  1.03046381,  2.00995979],\n",
       "       [ 0.22329406, -1.040833  ,  0.10979693, -0.97043679, -0.14550423],\n",
       "       [-0.68563699, -1.040833  ,  0.10979693, -0.97043679,  2.41490725],\n",
       "       [-0.988614  , -1.040833  , -1.11016894,  1.03046381,  0.37809645],\n",
       "       [-0.80682779,  0.96076892, -1.11016894, -0.97043679,  1.9819271 ],\n",
       "       [ 0.28388946, -1.040833  ,  1.32976279,  1.03046381, -0.93028076],\n",
       "       [-0.32206457, -1.040833  ,  0.10979693,  1.03046381,  0.91765633],\n",
       "       [ 0.04150785,  0.96076892,  0.10979693, -0.97043679,  0.25902691],\n",
       "       [-1.59456803, -1.040833  ,  1.32976279,  1.03046381, -1.01784822],\n",
       "       [ 1.79877454,  0.96076892, -1.11016894, -0.97043679, -0.90446848],\n",
       "       [ 0.28388946,  0.96076892,  0.10979693,  1.03046381, -0.70366006],\n",
       "       [ 1.25341591, -1.040833  , -1.11016894,  1.03046381,  2.19147839],\n",
       "       [ 0.52627108,  0.96076892,  1.32976279, -0.97043679, -0.27081868],\n",
       "       [ 0.10210325,  0.96076892,  1.32976279,  1.03046381, -1.2211546 ],\n",
       "       [-0.74623239,  0.96076892, -1.11016894,  1.03046381, -0.92139911],\n",
       "       [-0.32206457,  0.96076892,  0.10979693,  1.03046381, -0.29787994],\n",
       "       [-0.32206457, -1.040833  ,  1.32976279,  1.03046381, -0.88476233],\n",
       "       [-1.77635424,  0.96076892,  1.32976279, -0.97043679, -0.97149714],\n",
       "       [ 1.73817914, -1.040833  ,  1.32976279, -0.97043679,  0.43527203],\n",
       "       [ 0.82924809, -1.040833  , -1.11016894,  1.03046381, -0.25610845],\n",
       "       [ 0.34448487,  0.96076892,  1.32976279,  1.03046381, -0.04086736],\n",
       "       [-1.29159102,  0.96076892,  1.32976279, -0.97043679, -0.53074555],\n",
       "       [ 0.34448487, -1.040833  ,  1.32976279,  1.03046381, -0.5258884 ],\n",
       "       [ 1.31401132, -1.040833  ,  1.32976279,  1.03046381, -1.10708099],\n",
       "       [-0.44325537, -1.040833  , -1.11016894, -0.97043679, -0.41542295],\n",
       "       [ 1.43520212,  0.96076892,  0.10979693, -0.97043679, -0.80399488],\n",
       "       [-1.29159102,  0.96076892,  1.32976279, -0.97043679,  2.16511101],\n",
       "       [-0.988614  , -1.040833  ,  0.10979693, -0.97043679,  0.51506806],\n",
       "       [ 0.82924809, -1.040833  , -1.11016894, -0.97043679,  0.46233329],\n",
       "       [ 1.37460672,  0.96076892,  1.32976279,  1.03046381, -0.71975804],\n",
       "       [ 1.0716297 ,  0.96076892,  0.10979693,  1.03046381,  1.54020408],\n",
       "       [-1.23099561, -1.040833  , -1.11016894,  1.03046381,  0.32924741],\n",
       "       [ 1.43520212, -1.040833  , -1.11016894,  1.03046381, -0.81815   ],\n",
       "       [-1.10980481, -1.040833  ,  0.10979693, -0.97043679, -0.26707173],\n",
       "       [ 1.25341591,  0.96076892, -1.11016894,  1.03046381, -0.65841918],\n",
       "       [-0.26146916,  0.96076892, -1.11016894, -0.97043679,  1.62943685],\n",
       "       [ 0.9504389 ,  0.96076892,  1.32976279,  1.03046381, -0.83175002],\n",
       "       [-0.62504158,  0.96076892, -1.11016894, -0.97043679,  0.36338623],\n",
       "       [-0.38265997, -1.040833  ,  0.10979693,  1.03046381,  1.91378824],\n",
       "       [-1.23099561,  0.96076892, -1.11016894,  1.03046381, -0.91723584],\n",
       "       [ 1.37460672,  0.96076892,  0.10979693,  1.03046381,  0.63954985],\n",
       "       [ 0.04150785,  0.96076892,  0.10979693,  1.03046381, -1.07058298],\n",
       "       [ 0.9504389 , -1.040833  , -1.11016894, -0.97043679, -0.3860025 ],\n",
       "       [ 1.43520212, -1.040833  ,  1.32976279,  1.03046381,  1.52174691],\n",
       "       [-0.9280186 ,  0.96076892, -1.11016894, -0.97043679, -0.44803523],\n",
       "       [-1.65516344,  0.96076892,  1.32976279,  1.03046381, -0.72891723],\n",
       "       [ 0.58686648,  0.96076892,  1.32976279, -0.97043679,  1.18979546],\n",
       "       [-1.59456803, -1.040833  , -1.11016894,  1.03046381,  1.13678315],\n",
       "       [ 1.55639293,  0.96076892, -1.11016894, -0.97043679, -0.29385544],\n",
       "       [-0.988614  , -1.040833  ,  1.32976279, -0.97043679,  0.4982762 ],\n",
       "       [-1.23099561, -1.040833  ,  1.32976279, -0.97043679, -0.76041931],\n",
       "       [-0.20087376, -1.040833  ,  1.32976279,  1.03046381,  0.94652168],\n",
       "       [-0.80682779,  0.96076892, -1.11016894,  1.03046381,  0.13662675],\n",
       "       [-1.10980481,  0.96076892,  0.10979693,  1.03046381,  0.6695254 ],\n",
       "       [-0.50385078, -1.040833  , -1.11016894, -0.97043679, -0.67812533],\n",
       "       [-1.10980481, -1.040833  , -1.11016894,  1.03046381,  0.42694549],\n",
       "       [-1.53397263, -1.040833  , -1.11016894, -0.97043679, -0.38461474],\n",
       "       [-0.74623239, -1.040833  ,  0.10979693,  1.03046381, -0.72780703],\n",
       "       [ 0.9504389 ,  0.96076892, -1.11016894, -0.97043679, -0.29843504],\n",
       "       [ 1.19282051,  0.96076892,  1.32976279, -0.97043679, -1.15509738],\n",
       "       [-0.74623239, -1.040833  ,  0.10979693, -0.97043679, -0.884346  ],\n",
       "       [-0.38265997, -1.040833  , -1.11016894,  1.03046381, -0.66036204],\n",
       "       [ 0.16269866, -1.040833  ,  0.10979693, -0.97043679, -0.83508063],\n",
       "       [ 0.88984349,  0.96076892, -1.11016894, -0.97043679, -0.29829626],\n",
       "       [ 0.40508027, -1.040833  ,  1.32976279, -0.97043679, -0.34520245],\n",
       "       [ 1.49579753,  0.96076892,  0.10979693, -0.97043679, -0.08416537],\n",
       "       [-0.44325537, -1.040833  , -1.11016894,  1.03046381,  0.97233395],\n",
       "       [ 0.34448487, -1.040833  ,  1.32976279,  1.03046381,  0.1563329 ],\n",
       "       [ 1.0716297 ,  0.96076892,  1.32976279, -0.97043679,  0.0707083 ],\n",
       "       [-0.20087376,  0.96076892, -1.11016894,  1.03046381, -0.12885115],\n",
       "       [-0.9280186 , -1.040833  , -1.11016894, -0.97043679,  1.85480857],\n",
       "       [-0.14027836, -1.040833  ,  0.10979693,  1.03046381,  1.82996772],\n",
       "       [ 0.70805729,  0.96076892,  0.10979693, -0.97043679, -0.14841852],\n",
       "       [-0.50385078,  0.96076892,  0.10979693,  1.03046381, -0.64676202],\n",
       "       [ 0.82924809, -1.040833  ,  0.10979693, -0.97043679,  3.07561832],\n",
       "       [ 0.70805729, -1.040833  , -1.11016894, -0.97043679,  1.29207314],\n",
       "       [-1.47337723,  0.96076892, -1.11016894,  1.03046381,  2.71369132],\n",
       "       [-1.77635424, -1.040833  , -1.11016894,  1.03046381,  0.08888791],\n",
       "       [-0.80682779,  0.96076892, -1.11016894,  1.03046381, -0.58472929],\n",
       "       [ 0.04150785, -1.040833  , -1.11016894, -0.97043679, -0.44831279],\n",
       "       [-0.988614  , -1.040833  ,  0.10979693, -0.97043679, -0.41042702],\n",
       "       [ 0.70805729,  0.96076892,  1.32976279, -0.97043679, -0.98787267],\n",
       "       [-1.35218642,  0.96076892, -1.11016894,  1.03046381,  1.69438387],\n",
       "       [-0.44325537,  0.96076892,  0.10979693,  1.03046381, -0.98759512],\n",
       "       [-1.35218642,  0.96076892,  1.32976279, -0.97043679, -0.57334968],\n",
       "       [-0.14027836,  0.96076892,  0.10979693, -0.97043679,  0.54518238],\n",
       "       [ 1.67758373,  0.96076892, -1.11016894,  1.03046381, -0.88920315],\n",
       "       [-1.29159102,  0.96076892,  1.32976279, -0.97043679,  0.10623487],\n",
       "       [ 0.34448487,  0.96076892, -1.11016894, -0.97043679, -1.19270559],\n",
       "       [ 0.16269866, -1.040833  ,  1.32976279,  1.03046381, -1.30469757],\n",
       "       [-0.56444618,  0.96076892,  0.10979693,  1.03046381, -0.95956243],\n",
       "       [ 1.25341591, -1.040833  ,  0.10979693,  1.03046381, -0.32133303],\n",
       "       [-1.47337723, -1.040833  ,  1.32976279,  1.03046381, -0.94415833],\n",
       "       [ 0.40508027,  0.96076892, -1.11016894, -0.97043679,  0.30676574],\n",
       "       [ 1.37460672,  0.96076892,  1.32976279,  1.03046381, -0.91182359],\n",
       "       [-0.26146916, -1.040833  ,  1.32976279, -0.97043679, -0.83008471],\n",
       "       [-0.74623239, -1.040833  , -1.11016894,  1.03046381, -0.8038561 ],\n",
       "       [ 1.0110343 , -1.040833  , -1.11016894, -0.97043679,  1.3031752 ],\n",
       "       [-0.988614  ,  0.96076892,  1.32976279, -0.97043679,  1.52368977],\n",
       "       [-1.77635424,  0.96076892, -1.11016894,  1.03046381,  0.15563902],\n",
       "       [-0.62504158,  0.96076892,  1.32976279, -0.97043679,  0.88421139],\n",
       "       [-0.50385078, -1.040833  ,  1.32976279, -0.97043679,  0.09277363],\n",
       "       [ 0.52627108, -1.040833  , -1.11016894,  1.03046381, -0.49813326],\n",
       "       [-1.53397263, -1.040833  , -1.11016894,  1.03046381,  1.37173039],\n",
       "       [ 1.31401132,  0.96076892, -1.11016894, -0.97043679,  0.0364307 ],\n",
       "       [-0.56444618,  0.96076892,  1.32976279,  1.03046381, -1.14344022],\n",
       "       [ 0.16269866,  0.96076892,  0.10979693,  1.03046381,  2.42267869],\n",
       "       [-0.74623239, -1.040833  ,  1.32976279, -0.97043679, -1.19450967],\n",
       "       [ 1.55639293, -1.040833  ,  1.32976279, -0.97043679,  0.61123961],\n",
       "       [ 0.46567567,  0.96076892,  0.10979693,  1.03046381,  2.33663776],\n",
       "       [ 0.28388946,  0.96076892,  0.10979693,  1.03046381, -0.34506367],\n",
       "       [-1.23099561,  0.96076892,  1.32976279, -0.97043679,  1.34633444],\n",
       "       [-0.14027836, -1.040833  , -1.11016894, -0.97043679,  0.68714991],\n",
       "       [ 1.79877454,  0.96076892,  0.10979693,  1.03046381, -0.57529254],\n",
       "       [ 0.64746188, -1.040833  , -1.11016894, -0.97043679, -0.70879476],\n",
       "       [-0.56444618, -1.040833  , -1.11016894, -0.97043679, -0.44276176],\n",
       "       [ 0.40508027,  0.96076892, -1.11016894,  1.03046381, -0.65800285],\n",
       "       [ 1.49579753, -1.040833  ,  1.32976279, -0.97043679, -0.83535819],\n",
       "       [ 0.28388946,  0.96076892, -1.11016894,  1.03046381, -1.36215071],\n",
       "       [ 1.19282051, -1.040833  ,  0.10979693,  1.03046381,  1.34008953],\n",
       "       [ 0.9504389 ,  0.96076892, -1.11016894,  1.03046381, -1.03575028],\n",
       "       [ 1.79877454,  0.96076892, -1.11016894,  1.03046381, -0.08999395],\n",
       "       [-0.32206457,  0.96076892, -1.11016894, -0.97043679, -0.89100724],\n",
       "       [ 1.0110343 ,  0.96076892,  1.32976279, -0.97043679, -0.92167666],\n",
       "       [-0.44325537, -1.040833  ,  0.10979693,  1.03046381, -0.56599457],\n",
       "       [-1.10980481, -1.040833  , -1.11016894,  1.03046381, -0.52422309],\n",
       "       [ 1.0110343 , -1.040833  ,  0.10979693,  1.03046381, -1.21352194],\n",
       "       [-1.35218642,  0.96076892,  0.10979693, -0.97043679, -1.10097486],\n",
       "       [ 0.28388946,  0.96076892, -1.11016894,  1.03046381, -1.024787  ],\n",
       "       [ 1.43520212,  0.96076892, -1.11016894, -0.97043679, -0.70435393],\n",
       "       [ 0.64746188,  0.96076892,  1.32976279,  1.03046381, -1.22448522],\n",
       "       [ 1.67758373, -1.040833  ,  0.10979693,  1.03046381, -0.20018185],\n",
       "       [-0.44325537,  0.96076892,  0.10979693,  1.03046381,  0.08874914],\n",
       "       [ 0.28388946,  0.96076892,  0.10979693, -0.97043679, -0.76985606],\n",
       "       [-0.80682779,  0.96076892, -1.11016894,  1.03046381, -0.67410083],\n",
       "       [ 0.52627108,  0.96076892,  0.10979693, -0.97043679,  0.95457067],\n",
       "       [ 0.88984349, -1.040833  ,  0.10979693, -0.97043679, -0.7827622 ],\n",
       "       [-0.62504158, -1.040833  ,  0.10979693,  1.03046381, -0.43873726],\n",
       "       [-0.8674232 , -1.040833  ,  1.32976279, -0.97043679, -0.78290097],\n",
       "       [ 0.76865269, -1.040833  , -1.11016894,  1.03046381, -0.85201127],\n",
       "       [-0.07968296,  0.96076892,  1.32976279,  1.03046381, -0.44761891],\n",
       "       [-1.41278182, -1.040833  , -1.11016894,  1.03046381,  1.74129005],\n",
       "       [-1.71575884,  0.96076892, -1.11016894,  1.03046381,  0.40557404],\n",
       "       [-0.38265997,  0.96076892,  0.10979693, -0.97043679,  0.30676574],\n",
       "       [ 0.82924809, -1.040833  ,  0.10979693, -0.97043679,  1.46554276],\n",
       "       [ 0.76865269, -1.040833  ,  1.32976279, -0.97043679, -0.2593003 ],\n",
       "       [ 0.40508027, -1.040833  ,  0.10979693,  1.03046381,  0.96012169],\n",
       "       [-1.47337723, -1.040833  , -1.11016894, -0.97043679, -0.66924368],\n",
       "       [-0.988614  , -1.040833  ,  1.32976279, -0.97043679, -0.44484339],\n",
       "       [ 0.04150785,  0.96076892,  0.10979693,  1.03046381, -0.84201942],\n",
       "       [-0.32206457, -1.040833  ,  1.32976279,  1.03046381,  0.15827576],\n",
       "       [-0.20087376, -1.040833  ,  0.10979693,  1.03046381,  0.36838215],\n",
       "       [-0.14027836,  0.96076892, -1.11016894,  1.03046381, -0.46052505],\n",
       "       [ 1.73817914, -1.040833  , -1.11016894, -0.97043679,  0.31412086],\n",
       "       [ 0.22329406,  0.96076892, -1.11016894,  1.03046381, -0.78248465],\n",
       "       [-1.17040021,  0.96076892,  1.32976279, -0.97043679,  0.40612914],\n",
       "       [-0.32206457,  0.96076892,  1.32976279, -0.97043679, -0.01602651],\n",
       "       [ 1.37460672, -1.040833  ,  1.32976279, -0.97043679, -0.02685101],\n",
       "       [-1.35218642, -1.040833  , -1.11016894,  1.03046381,  0.93444819],\n",
       "       [ 0.88984349, -1.040833  ,  1.32976279, -0.97043679, -0.30537382],\n",
       "       [-1.47337723, -1.040833  ,  0.10979693,  1.03046381, -0.61040279],\n",
       "       [-0.50385078, -1.040833  , -1.11016894,  1.03046381, -0.08250007],\n",
       "       [-1.59456803, -1.040833  , -1.11016894, -0.97043679,  2.92865486],\n",
       "       [ 0.76865269, -1.040833  ,  1.32976279,  1.03046381,  1.36118344],\n",
       "       [ 1.55639293,  0.96076892, -1.11016894, -0.97043679, -0.86533373],\n",
       "       [ 0.16269866,  0.96076892, -1.11016894, -0.97043679, -0.788452  ],\n",
       "       [ 1.25341591,  0.96076892, -1.11016894,  1.03046381,  2.62459732],\n",
       "       [ 1.19282051,  0.96076892, -1.11016894,  1.03046381,  0.67271724],\n",
       "       [ 0.82924809,  0.96076892, -1.11016894, -0.97043679,  0.40335363],\n",
       "       [-1.29159102,  0.96076892, -1.11016894, -0.97043679, -1.12040345],\n",
       "       [ 1.67758373,  0.96076892,  0.10979693, -0.97043679,  0.031296  ],\n",
       "       [ 1.67758373,  0.96076892,  0.10979693, -0.97043679, -1.29276286],\n",
       "       [ 0.10210325, -1.040833  , -1.11016894, -0.97043679,  2.58143808],\n",
       "       [ 0.70805729, -1.040833  ,  0.10979693, -0.97043679, -0.6269171 ],\n",
       "       [-1.71575884,  0.96076892,  0.10979693, -0.97043679, -0.56599457],\n",
       "       [ 0.46567567,  0.96076892,  1.32976279, -0.97043679, -0.85908883],\n",
       "       [-1.29159102,  0.96076892,  1.32976279,  1.03046381, -0.28650033],\n",
       "       [-0.26146916, -1.040833  ,  0.10979693,  1.03046381, -0.6571702 ]])"
      ]
     },
     "execution_count": 7,
     "metadata": {},
     "output_type": "execute_result"
    }
   ],
   "source": [
    "scaler = StandardScaler()\n",
    "X_scaled  = scaler.fit_transform(data.drop('Drug',axis=1))\n",
    "X_scaled"
   ]
  },
  {
   "cell_type": "code",
   "execution_count": 8,
   "id": "6125b439-3e69-4042-aa81-7921dcc7f144",
   "metadata": {},
   "outputs": [],
   "source": [
    "X_train,X_test,y_train,y_test = train_test_split(X_scaled,data.Drug,test_size = 0.2,random_state = 42 )"
   ]
  },
  {
   "cell_type": "code",
   "execution_count": 9,
   "id": "bf4ac10b-a436-4594-88de-223e5dbabac7",
   "metadata": {},
   "outputs": [
    {
     "data": {
      "text/html": [
       "<div>\n",
       "<style scoped>\n",
       "    .dataframe tbody tr th:only-of-type {\n",
       "        vertical-align: middle;\n",
       "    }\n",
       "\n",
       "    .dataframe tbody tr th {\n",
       "        vertical-align: top;\n",
       "    }\n",
       "\n",
       "    .dataframe thead th {\n",
       "        text-align: right;\n",
       "    }\n",
       "</style>\n",
       "<table border=\"1\" class=\"dataframe\">\n",
       "  <thead>\n",
       "    <tr style=\"text-align: right;\">\n",
       "      <th></th>\n",
       "      <th>Age</th>\n",
       "      <th>Sex</th>\n",
       "      <th>BP</th>\n",
       "      <th>Cholesterol</th>\n",
       "      <th>Na_to_K</th>\n",
       "      <th>Drug</th>\n",
       "    </tr>\n",
       "  </thead>\n",
       "  <tbody>\n",
       "    <tr>\n",
       "      <th>0</th>\n",
       "      <td>23</td>\n",
       "      <td>0</td>\n",
       "      <td>0</td>\n",
       "      <td>0</td>\n",
       "      <td>25.355</td>\n",
       "      <td>4</td>\n",
       "    </tr>\n",
       "    <tr>\n",
       "      <th>1</th>\n",
       "      <td>47</td>\n",
       "      <td>1</td>\n",
       "      <td>1</td>\n",
       "      <td>0</td>\n",
       "      <td>13.093</td>\n",
       "      <td>2</td>\n",
       "    </tr>\n",
       "    <tr>\n",
       "      <th>2</th>\n",
       "      <td>47</td>\n",
       "      <td>1</td>\n",
       "      <td>1</td>\n",
       "      <td>0</td>\n",
       "      <td>10.114</td>\n",
       "      <td>2</td>\n",
       "    </tr>\n",
       "    <tr>\n",
       "      <th>3</th>\n",
       "      <td>28</td>\n",
       "      <td>0</td>\n",
       "      <td>2</td>\n",
       "      <td>0</td>\n",
       "      <td>7.798</td>\n",
       "      <td>3</td>\n",
       "    </tr>\n",
       "    <tr>\n",
       "      <th>4</th>\n",
       "      <td>61</td>\n",
       "      <td>0</td>\n",
       "      <td>1</td>\n",
       "      <td>0</td>\n",
       "      <td>18.043</td>\n",
       "      <td>4</td>\n",
       "    </tr>\n",
       "    <tr>\n",
       "      <th>5</th>\n",
       "      <td>22</td>\n",
       "      <td>0</td>\n",
       "      <td>2</td>\n",
       "      <td>0</td>\n",
       "      <td>8.607</td>\n",
       "      <td>3</td>\n",
       "    </tr>\n",
       "    <tr>\n",
       "      <th>6</th>\n",
       "      <td>49</td>\n",
       "      <td>0</td>\n",
       "      <td>2</td>\n",
       "      <td>0</td>\n",
       "      <td>16.275</td>\n",
       "      <td>4</td>\n",
       "    </tr>\n",
       "    <tr>\n",
       "      <th>7</th>\n",
       "      <td>41</td>\n",
       "      <td>1</td>\n",
       "      <td>1</td>\n",
       "      <td>0</td>\n",
       "      <td>11.037</td>\n",
       "      <td>2</td>\n",
       "    </tr>\n",
       "    <tr>\n",
       "      <th>8</th>\n",
       "      <td>60</td>\n",
       "      <td>1</td>\n",
       "      <td>2</td>\n",
       "      <td>0</td>\n",
       "      <td>15.171</td>\n",
       "      <td>4</td>\n",
       "    </tr>\n",
       "    <tr>\n",
       "      <th>9</th>\n",
       "      <td>43</td>\n",
       "      <td>1</td>\n",
       "      <td>1</td>\n",
       "      <td>1</td>\n",
       "      <td>19.368</td>\n",
       "      <td>4</td>\n",
       "    </tr>\n",
       "    <tr>\n",
       "      <th>10</th>\n",
       "      <td>47</td>\n",
       "      <td>0</td>\n",
       "      <td>1</td>\n",
       "      <td>0</td>\n",
       "      <td>11.767</td>\n",
       "      <td>2</td>\n",
       "    </tr>\n",
       "    <tr>\n",
       "      <th>11</th>\n",
       "      <td>34</td>\n",
       "      <td>0</td>\n",
       "      <td>0</td>\n",
       "      <td>1</td>\n",
       "      <td>19.199</td>\n",
       "      <td>4</td>\n",
       "    </tr>\n",
       "    <tr>\n",
       "      <th>12</th>\n",
       "      <td>43</td>\n",
       "      <td>1</td>\n",
       "      <td>1</td>\n",
       "      <td>0</td>\n",
       "      <td>15.376</td>\n",
       "      <td>4</td>\n",
       "    </tr>\n",
       "    <tr>\n",
       "      <th>13</th>\n",
       "      <td>74</td>\n",
       "      <td>0</td>\n",
       "      <td>1</td>\n",
       "      <td>0</td>\n",
       "      <td>20.942</td>\n",
       "      <td>4</td>\n",
       "    </tr>\n",
       "    <tr>\n",
       "      <th>14</th>\n",
       "      <td>50</td>\n",
       "      <td>0</td>\n",
       "      <td>2</td>\n",
       "      <td>0</td>\n",
       "      <td>12.703</td>\n",
       "      <td>3</td>\n",
       "    </tr>\n",
       "    <tr>\n",
       "      <th>15</th>\n",
       "      <td>16</td>\n",
       "      <td>0</td>\n",
       "      <td>0</td>\n",
       "      <td>1</td>\n",
       "      <td>15.516</td>\n",
       "      <td>4</td>\n",
       "    </tr>\n",
       "    <tr>\n",
       "      <th>16</th>\n",
       "      <td>69</td>\n",
       "      <td>1</td>\n",
       "      <td>1</td>\n",
       "      <td>1</td>\n",
       "      <td>11.455</td>\n",
       "      <td>3</td>\n",
       "    </tr>\n",
       "    <tr>\n",
       "      <th>17</th>\n",
       "      <td>43</td>\n",
       "      <td>1</td>\n",
       "      <td>0</td>\n",
       "      <td>0</td>\n",
       "      <td>13.972</td>\n",
       "      <td>0</td>\n",
       "    </tr>\n",
       "    <tr>\n",
       "      <th>18</th>\n",
       "      <td>23</td>\n",
       "      <td>1</td>\n",
       "      <td>1</td>\n",
       "      <td>0</td>\n",
       "      <td>7.298</td>\n",
       "      <td>2</td>\n",
       "    </tr>\n",
       "    <tr>\n",
       "      <th>19</th>\n",
       "      <td>32</td>\n",
       "      <td>0</td>\n",
       "      <td>0</td>\n",
       "      <td>1</td>\n",
       "      <td>25.974</td>\n",
       "      <td>4</td>\n",
       "    </tr>\n",
       "  </tbody>\n",
       "</table>\n",
       "</div>"
      ],
      "text/plain": [
       "    Age  Sex  BP  Cholesterol  Na_to_K  Drug\n",
       "0    23    0   0            0   25.355     4\n",
       "1    47    1   1            0   13.093     2\n",
       "2    47    1   1            0   10.114     2\n",
       "3    28    0   2            0    7.798     3\n",
       "4    61    0   1            0   18.043     4\n",
       "5    22    0   2            0    8.607     3\n",
       "6    49    0   2            0   16.275     4\n",
       "7    41    1   1            0   11.037     2\n",
       "8    60    1   2            0   15.171     4\n",
       "9    43    1   1            1   19.368     4\n",
       "10   47    0   1            0   11.767     2\n",
       "11   34    0   0            1   19.199     4\n",
       "12   43    1   1            0   15.376     4\n",
       "13   74    0   1            0   20.942     4\n",
       "14   50    0   2            0   12.703     3\n",
       "15   16    0   0            1   15.516     4\n",
       "16   69    1   1            1   11.455     3\n",
       "17   43    1   0            0   13.972     0\n",
       "18   23    1   1            0    7.298     2\n",
       "19   32    0   0            1   25.974     4"
      ]
     },
     "execution_count": 9,
     "metadata": {},
     "output_type": "execute_result"
    }
   ],
   "source": [
    "data.head(20)"
   ]
  },
  {
   "cell_type": "code",
   "execution_count": 10,
   "id": "790d11f1-a0a2-4229-bd9e-6a5fee0db206",
   "metadata": {},
   "outputs": [],
   "source": [
    "from sklearn.neighbors import KNeighborsClassifier"
   ]
  },
  {
   "cell_type": "code",
   "execution_count": 11,
   "id": "579dfcfa-ab51-4fac-a8e7-917f79ce203d",
   "metadata": {},
   "outputs": [],
   "source": [
    "knn = KNeighborsClassifier(n_neighbors = 3) \n",
    "knn.fit(X_train,y_train)\n",
    "y_pred_knn = knn.predict(X_test)"
   ]
  },
  {
   "cell_type": "code",
   "execution_count": 12,
   "id": "19edd2e7-5ade-469d-ba54-122cc99da7bd",
   "metadata": {},
   "outputs": [
    {
     "data": {
      "text/plain": [
       "array([3, 4, 3, 2, 4, 0, 4, 3, 0, 3, 0, 3, 4, 0, 1, 4, 1, 3, 2, 4, 1, 3,\n",
       "       3, 4, 4, 4, 2, 3, 4, 3, 4, 2, 2, 4, 0, 4, 1, 0, 4, 0])"
      ]
     },
     "execution_count": 12,
     "metadata": {},
     "output_type": "execute_result"
    }
   ],
   "source": [
    "y_pred_knn"
   ]
  },
  {
   "cell_type": "code",
   "execution_count": 58,
   "id": "bc96c732-88d5-4901-84a4-d901c77a5bbe",
   "metadata": {},
   "outputs": [],
   "source": [
    "from sklearn.metrics import accuracy_score,precision_score,recall_score,f1_score"
   ]
  },
  {
   "cell_type": "code",
   "execution_count": 59,
   "id": "53c3d244-36c9-4e29-858d-7306efcbbd9b",
   "metadata": {},
   "outputs": [],
   "source": [
    "knn_accuracy=accuracy_score(y_test,y_pred_knn)"
   ]
  },
  {
   "cell_type": "code",
   "execution_count": 60,
   "id": "02c2fbf6-9efc-46e9-a2dc-1e58a45f3f5b",
   "metadata": {},
   "outputs": [
    {
     "data": {
      "text/plain": [
       "0.95"
      ]
     },
     "execution_count": 60,
     "metadata": {},
     "output_type": "execute_result"
    }
   ],
   "source": [
    "knn_accuracy"
   ]
  },
  {
   "cell_type": "code",
   "execution_count": 61,
   "id": "de7402fe-a290-490c-9fe2-1798b97b0c78",
   "metadata": {},
   "outputs": [],
   "source": [
    "knn_precision=precision_score(y_test,y_pred_knn,average='weighted')"
   ]
  },
  {
   "cell_type": "code",
   "execution_count": 62,
   "id": "1e666d47-cc90-46b1-b447-828a2020a032",
   "metadata": {},
   "outputs": [
    {
     "data": {
      "text/plain": [
       "0.9598214285714285"
      ]
     },
     "execution_count": 62,
     "metadata": {},
     "output_type": "execute_result"
    }
   ],
   "source": [
    "knn_precision"
   ]
  },
  {
   "cell_type": "code",
   "execution_count": 63,
   "id": "3172b6f3-5fb8-43ca-bb1b-5646ba2deec3",
   "metadata": {},
   "outputs": [],
   "source": [
    "knn_recall=recall_score(y_test,y_pred_knn,average='weighted')"
   ]
  },
  {
   "cell_type": "code",
   "execution_count": 64,
   "id": "0463e129-4558-4fdb-ad28-0b7da7fa4d13",
   "metadata": {},
   "outputs": [
    {
     "data": {
      "text/plain": [
       "0.95"
      ]
     },
     "execution_count": 64,
     "metadata": {},
     "output_type": "execute_result"
    }
   ],
   "source": [
    "knn_recall"
   ]
  },
  {
   "cell_type": "code",
   "execution_count": 65,
   "id": "9bf3db9e-3f5b-4bd3-b6e6-f9eaf6ce9a86",
   "metadata": {},
   "outputs": [],
   "source": [
    "knn_f1_score=f1_score(y_test,y_pred_knn,average='weighted')"
   ]
  },
  {
   "cell_type": "code",
   "execution_count": 66,
   "id": "e29a54fc-ba8a-43c4-8e3d-de6d2cec8949",
   "metadata": {},
   "outputs": [
    {
     "data": {
      "text/plain": [
       "0.9517209801692561"
      ]
     },
     "execution_count": 66,
     "metadata": {},
     "output_type": "execute_result"
    }
   ],
   "source": [
    "knn_f1_score"
   ]
  },
  {
   "cell_type": "code",
   "execution_count": 20,
   "id": "8c33e050-24d3-4977-b326-8b5c738be298",
   "metadata": {},
   "outputs": [],
   "source": [
    "from sklearn.tree import DecisionTreeClassifier"
   ]
  },
  {
   "cell_type": "code",
   "execution_count": 21,
   "id": "c3592c01-9eb2-4160-8fb7-0f4ec5056658",
   "metadata": {},
   "outputs": [],
   "source": [
    "dt = DecisionTreeClassifier(random_state=42)\n",
    "dt.fit(X_train, y_train)\n",
    "\n",
    "y_pred_dt = dt.predict(X_test)"
   ]
  },
  {
   "cell_type": "code",
   "execution_count": 22,
   "id": "364335c3-fae8-46d9-9009-cf24795c6d26",
   "metadata": {},
   "outputs": [
    {
     "data": {
      "text/plain": [
       "array([3, 4, 3, 2, 4, 4, 4, 3, 0, 3, 0, 3, 4, 0, 1, 4, 1, 3, 2, 4, 1, 3,\n",
       "       3, 4, 4, 4, 2, 3, 4, 3, 4, 2, 2, 4, 0, 4, 3, 0, 4, 0])"
      ]
     },
     "execution_count": 22,
     "metadata": {},
     "output_type": "execute_result"
    }
   ],
   "source": [
    "y_pred_dt"
   ]
  },
  {
   "cell_type": "code",
   "execution_count": 23,
   "id": "ed607c51-3609-4761-a316-dd125ef36ade",
   "metadata": {},
   "outputs": [],
   "source": [
    "dt_accuracy=accuracy_score(y_test, y_pred_dt)"
   ]
  },
  {
   "cell_type": "code",
   "execution_count": 24,
   "id": "904d620c-0ec7-44cb-9838-7bfc96bd6ca2",
   "metadata": {},
   "outputs": [
    {
     "data": {
      "text/plain": [
       "1.0"
      ]
     },
     "execution_count": 24,
     "metadata": {},
     "output_type": "execute_result"
    }
   ],
   "source": [
    "dt_accuracy"
   ]
  },
  {
   "cell_type": "code",
   "execution_count": 25,
   "id": "cbe86e82-37d1-4642-b9dc-8e3472f899c8",
   "metadata": {},
   "outputs": [],
   "source": [
    "dt_precision=precision_score(y_test,y_pred_dt,average='weighted')"
   ]
  },
  {
   "cell_type": "code",
   "execution_count": 26,
   "id": "d3b7a892-03ae-4127-9cea-c0b51c657d84",
   "metadata": {},
   "outputs": [
    {
     "data": {
      "text/plain": [
       "1.0"
      ]
     },
     "execution_count": 26,
     "metadata": {},
     "output_type": "execute_result"
    }
   ],
   "source": [
    "dt_precision"
   ]
  },
  {
   "cell_type": "code",
   "execution_count": 28,
   "id": "dca40ce3-7066-490d-a7f7-2166c12dfc02",
   "metadata": {},
   "outputs": [],
   "source": [
    "dt_recall=recall_score(y_test,y_pred_dt,average='weighted')"
   ]
  },
  {
   "cell_type": "code",
   "execution_count": 29,
   "id": "c8a2a457-3b7b-4a5f-ac9c-c9845c7fb1d2",
   "metadata": {},
   "outputs": [
    {
     "data": {
      "text/plain": [
       "1.0"
      ]
     },
     "execution_count": 29,
     "metadata": {},
     "output_type": "execute_result"
    }
   ],
   "source": [
    "dt_recall"
   ]
  },
  {
   "cell_type": "code",
   "execution_count": 67,
   "id": "49ef92a5-ae79-429a-a74f-46ba5274f8c4",
   "metadata": {},
   "outputs": [],
   "source": [
    "dt_f1_score=f1_score(y_test,y_pred_dt,average='weighted')"
   ]
  },
  {
   "cell_type": "code",
   "execution_count": 68,
   "id": "53244dbb-7cc7-4e68-b46b-6c4e5069df7d",
   "metadata": {},
   "outputs": [
    {
     "data": {
      "text/plain": [
       "1.0"
      ]
     },
     "execution_count": 68,
     "metadata": {},
     "output_type": "execute_result"
    }
   ],
   "source": [
    "dt_f1_score"
   ]
  },
  {
   "cell_type": "code",
   "execution_count": 30,
   "id": "491610cb-dc26-4604-b990-cedd1ced3b45",
   "metadata": {},
   "outputs": [],
   "source": [
    "from sklearn.naive_bayes import GaussianNB"
   ]
  },
  {
   "cell_type": "code",
   "execution_count": 34,
   "id": "a57722f8-090a-4b3a-b77e-c172748758d7",
   "metadata": {},
   "outputs": [],
   "source": [
    "nb = GaussianNB()\n",
    "nb.fit(X_train, y_train)\n",
    "y_pred_nb = nb.predict(X_test)"
   ]
  },
  {
   "cell_type": "code",
   "execution_count": 35,
   "id": "0ee7f03e-dcf8-4d0e-a36f-017fa447e285",
   "metadata": {},
   "outputs": [],
   "source": [
    "nb_accuracy=accuracy_score(y_test, y_pred_nb)"
   ]
  },
  {
   "cell_type": "code",
   "execution_count": 36,
   "id": "541b77df-e5ff-43c8-9d95-34f0baf430a8",
   "metadata": {},
   "outputs": [
    {
     "data": {
      "text/plain": [
       "0.9"
      ]
     },
     "execution_count": 36,
     "metadata": {},
     "output_type": "execute_result"
    }
   ],
   "source": [
    "nb_accuracy"
   ]
  },
  {
   "cell_type": "code",
   "execution_count": 69,
   "id": "d6e6fa3a-42df-421e-98d0-6c2e16f3370c",
   "metadata": {},
   "outputs": [],
   "source": [
    "nb_precision=precision_score(y_test,y_pred_nb,average='weighted')"
   ]
  },
  {
   "cell_type": "code",
   "execution_count": 44,
   "id": "c0216b67-a28c-4d7c-ac9e-b3bf35bd8c12",
   "metadata": {},
   "outputs": [
    {
     "data": {
      "text/plain": [
       "0.9229166666666668"
      ]
     },
     "execution_count": 44,
     "metadata": {},
     "output_type": "execute_result"
    }
   ],
   "source": [
    "nb_precision"
   ]
  },
  {
   "cell_type": "code",
   "execution_count": 39,
   "id": "a9b1ca19-a9c2-4fc3-9e2e-153312d9e439",
   "metadata": {},
   "outputs": [],
   "source": [
    "nb_recall=recall_score(y_test,y_pred_nb,average='weighted')"
   ]
  },
  {
   "cell_type": "code",
   "execution_count": 40,
   "id": "530177e0-f3e8-4457-9142-fb036ac5d4a5",
   "metadata": {},
   "outputs": [
    {
     "data": {
      "text/plain": [
       "0.9"
      ]
     },
     "execution_count": 40,
     "metadata": {},
     "output_type": "execute_result"
    }
   ],
   "source": [
    "nb_recall"
   ]
  },
  {
   "cell_type": "code",
   "execution_count": 70,
   "id": "04c7dc62-56fa-47a0-b2bf-4432a3fd7de9",
   "metadata": {},
   "outputs": [],
   "source": [
    "nb_f1_score=f1_score(y_test,y_pred_nb,average='weighted')"
   ]
  },
  {
   "cell_type": "code",
   "execution_count": 71,
   "id": "58d45509-59ed-40f2-a0f6-399fb1e8b53f",
   "metadata": {},
   "outputs": [
    {
     "data": {
      "text/plain": [
       "0.8988011988011987"
      ]
     },
     "execution_count": 71,
     "metadata": {},
     "output_type": "execute_result"
    }
   ],
   "source": [
    "nb_f1_score"
   ]
  },
  {
   "cell_type": "code",
   "execution_count": 41,
   "id": "18447e4d-ab39-4220-b18f-a590c13f318d",
   "metadata": {},
   "outputs": [],
   "source": [
    "models = ['KNN', 'Decision Tree', 'Naive Bayes']\n",
    "accuracies = [\n",
    "    accuracy_score(y_test,y_pred_knn ),\n",
    "    accuracy_score(y_test, y_pred_dt),\n",
    "    accuracy_score(y_test, y_pred_nb)\n",
    "]"
   ]
  },
  {
   "cell_type": "code",
   "execution_count": 48,
   "id": "e07ee3cd-7db7-4049-aa8f-80bd9cb0783e",
   "metadata": {},
   "outputs": [
    {
     "data": {
      "image/png": "[encoded data removed]",
      "text/plain": [
       "<Figure size 640x480 with 1 Axes>"
      ]
     },
     "metadata": {},
     "output_type": "display_data"
    }
   ],
   "source": [
    "import matplotlib.pyplot as plt\n",
    "import numpy as np \n",
    "plt.bar(models, accuracies, color=['green','blue', 'orange'])\n",
    "plt.title('Model Comparison - Accuracy')\n",
    "plt.xlabel('Models')\n",
    "plt.ylabel('Accuracy')\n",
    "plt.ylim(0.5, 1)\n",
    "plt.show()"
   ]
  },
  {
   "cell_type": "code",
   "execution_count": 72,
   "id": "405d8559-1920-4511-ade9-de15482e82b3",
   "metadata": {},
   "outputs": [],
   "source": [
    "metrics = {\n",
    "    \"Model\": [ \"KNN\", \"Decision Tree\", \"Naive Bayes\"],\n",
    "    \"Precision\": [knn_precision, dt_precision, nb_precision],\n",
    "    \"Recall\": [knn_recall, dt_recall, nb_recall],\n",
    "    \"F1-Score\": [knn_f1_score, dt_f1_score,nb_f1_score],\n",
    "}"
   ]
  },
  {
   "cell_type": "code",
   "execution_count": 73,
   "id": "6a07527a-e564-407a-8d2c-2ce9a2cb942c",
   "metadata": {},
   "outputs": [
    {
     "name": "stdout",
     "output_type": "stream",
     "text": [
      "           Model  Precision  Recall  F1-Score\n",
      "0            KNN   0.959821    0.95  0.951721\n",
      "1  Decision Tree   1.000000    1.00  1.000000\n",
      "2    Naive Bayes   0.922917    0.90  0.898801\n"
     ]
    }
   ],
   "source": [
    "metrics_df = pd.DataFrame(metrics)\n",
    "print(metrics_df)"
   ]
  },
  {
   "cell_type": "code",
   "execution_count": 74,
   "id": "38dd02bf-1225-400e-9825-35680cd744f1",
   "metadata": {},
   "outputs": [
    {
     "data": {
      "image/png": "[encoded data removed]",
      "text/plain": [
       "<Figure size 1000x600 with 1 Axes>"
      ]
     },
     "metadata": {},
     "output_type": "display_data"
    }
   ],
   "source": [
    "plt.figure(figsize =(10,6))\n",
    "metrics = [\"Precision\", \"Recall\",\"F1-Score\"]\n",
    "x = np.arange(len(metrics))\n",
    "bar_width = 0.25\n",
    "plt.bar(x - bar_width, metrics_df.loc[0, metrics], width=bar_width, label=\"KNN\", color=\"red\")\n",
    "plt.bar(x, metrics_df.loc[1, metrics], width=bar_width, label=\"Decision Tree\", color=\"blue\")\n",
    "plt.bar(x + bar_width, metrics_df.loc[2, metrics], width=bar_width, label=\"Naive Bayes\", color=\"green\")\n",
    "\n",
    "plt.title(\"Classification Model Comparison (Precision, Recall)\")\n",
    "plt.xlabel(\"Metrics\")\n",
    "plt.ylabel(\"Scores\")\n",
    "plt.xticks(x, metrics)\n",
    "plt.ylim(0, 1)  \n",
    "plt.legend()\n",
    "\n",
    "plt.show()"
   ]
  },
  {
   "cell_type": "code",
   "execution_count": null,
   "id": "c9a619a1-12e2-4972-800b-810950bd938a",
   "metadata": {},
   "outputs": [],
   "source": []
  },
  {
   "cell_type": "code",
   "execution_count": null,
   "id": "abcf37a1-14f3-420e-b379-560bc852a3fe",
   "metadata": {},
   "outputs": [],
   "source": []
  }
 ],
 "metadata": {
  "kernelspec": {
   "display_name": "Python 3 (ipykernel)",
   "language": "python",
   "name": "python3"
  },
  "language_info": {
   "codemirror_mode": {
    "name": "ipython",
    "version": 3
   },
   "file_extension": ".py",
   "mimetype": "text/x-python",
   "name": "python",
   "nbconvert_exporter": "python",
   "pygments_lexer": "ipython3",
   "version": "3.12.5"
  }
 },
 "nbformat": 4,
 "nbformat_minor": 5
}
